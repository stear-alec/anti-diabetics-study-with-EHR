{
 "cells": [
  {
   "cell_type": "markdown",
   "id": "62c36930",
   "metadata": {},
   "source": [
    "# Data Wrangling"
   ]
  },
  {
   "cell_type": "code",
   "execution_count": 2,
   "id": "09fde82d",
   "metadata": {},
   "outputs": [],
   "source": [
    "import pandas as pd"
   ]
  },
  {
   "cell_type": "code",
   "execution_count": 6,
   "id": "b1610dd3",
   "metadata": {},
   "outputs": [],
   "source": [
    "#import covariate datasets qnd the outcomes. \n",
    "\n",
    "COPD_path = '/Users/alecstear/Downloads/COPD_covariate.csv'\n",
    "df_COPD = pd.read_csv(COPD_path)\n",
    "\n",
    "fracture_path = '/Users/alecstear/Downloads/fracture_covariate_TRUE.csv'\n",
    "df_fracture = pd.read_csv(fracture_path)\n",
    "\n"
   ]
  }
 ],
 "metadata": {
  "kernelspec": {
   "display_name": "Python 3 (ipykernel)",
   "language": "python",
   "name": "python3"
  },
  "language_info": {
   "codemirror_mode": {
    "name": "ipython",
    "version": 3
   },
   "file_extension": ".py",
   "mimetype": "text/x-python",
   "name": "python",
   "nbconvert_exporter": "python",
   "pygments_lexer": "ipython3",
   "version": "3.10.9"
  }
 },
 "nbformat": 4,
 "nbformat_minor": 5
}

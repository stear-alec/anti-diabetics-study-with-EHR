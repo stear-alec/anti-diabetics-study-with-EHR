{
 "cells": [
  {
   "cell_type": "markdown",
   "id": "62c36930",
   "metadata": {},
   "source": [
    "# Data Wrangling"
   ]
  },
  {
   "cell_type": "markdown",
   "id": "f9c4d1ee",
   "metadata": {},
   "source": [
    "## Data Import"
   ]
  },
  {
   "cell_type": "code",
   "execution_count": 299,
   "id": "09fde82d",
   "metadata": {},
   "outputs": [],
   "source": [
    "import pandas as pd\n",
    "import numpy as np"
   ]
  },
  {
   "cell_type": "code",
   "execution_count": 317,
   "id": "b1610dd3",
   "metadata": {},
   "outputs": [],
   "source": [
    "#import covariate datasets qnd the outcomes. \n",
    "\n",
    "main_table_path = '/Users/alecstear/Documents/GitHub/anti-diabetics-study-with-EHR/data tables/main table analysis/'\n",
    "\n",
    "cancer_path = f'{main_table_path}cancer_diab_pop.csv'\n",
    "df_cancer = pd.read_csv(cancer_path)\n",
    "\n",
    "sex_dates_path = f'{main_table_path}sex_dates.csv'\n",
    "df_sex_dates = pd.read_csv(sex_dates_path)\n",
    "\n",
    "COPD_path = f'{main_table_path}COPD_diab_pop.csv'\n",
    "df_COPD = pd.read_csv(COPD_path)\n",
    "\n",
    "diabetes_cohort_path = f'{main_table_path}diab_pop.csv'\n",
    "df_diabetes_cohort = pd.read_csv(diabetes_cohort_path)\n",
    "\n",
    "exposure_drug_path = f'{main_table_path}exposure_drugs_ATC.csv'\n",
    "df_exp_drug = pd.read_csv(exposure_drug_path)\n",
    "#get the table for the exposure. \n",
    "\n",
    "fracture_path = f'{main_table_path}fracture_diab_pop.csv'\n",
    "df_fracture = pd.read_csv(fracture_path)\n",
    "\n",
    "hypertension_path = f'{main_table_path}hypertension_diab_pop.csv'\n",
    "df_hypertension = pd.read_csv(hypertension_path)\n",
    "\n",
    "surgery_path = f'{main_table_path}surgery_diab_pop.csv'\n",
    "df_surgery = pd.read_csv(surgery_path)\n",
    "\n",
    "outcome_VTE_path = f'{main_table_path}outcome_VTE.csv'\n",
    "df_outcome = pd.read_csv(outcome_VTE_path)\n",
    "\n",
    "#add event date table : outcome_VTE"
   ]
  },
  {
   "cell_type": "markdown",
   "id": "2c856813",
   "metadata": {},
   "source": [
    "## All Cohort individuals table"
   ]
  },
  {
   "cell_type": "code",
   "execution_count": 318,
   "id": "0fb297ab",
   "metadata": {},
   "outputs": [],
   "source": [
    "#Calculate the age of our patients. \n",
    "df_sex_dates[\"diab_date\"] = pd.to_datetime(df_sex_dates[\"diab_date\"])\n",
    "df_sex_dates[\"pat_birth_date\"] = pd.to_datetime(df_sex_dates[\"pat_birth_date\"])\n",
    "df_sex_dates['years of age'] = (df_sex_dates[\"diab_date\"] - df_sex_dates[\"pat_birth_date\"]).dt.days/ 365.25"
   ]
  },
  {
   "cell_type": "code",
   "execution_count": 319,
   "id": "dd4221fb",
   "metadata": {
    "scrolled": true
   },
   "outputs": [],
   "source": [
    "df_diabetes_cohort = df_sex_dates"
   ]
  },
  {
   "cell_type": "code",
   "execution_count": 279,
   "id": "706bfd54",
   "metadata": {},
   "outputs": [],
   "source": [
    "#What does this do ? \n",
    "#df_diabetes_cohort = df_diabetes_cohort.rename(columns={'pat_id': 'PAT_ID'})\n",
    "#df_outcome = df_outcome.rename(columns={'pat_id': 'PAT_ID'})\n",
    "#total_cohort_df = pd.merge(df_diabetes_cohort, df_age_sex, on='PAT_ID', how='inner')\n",
    "#df_diabetes_cohort = total_cohort_df"
   ]
  },
  {
   "cell_type": "markdown",
   "id": "765acf97",
   "metadata": {},
   "source": [
    "## Covariates"
   ]
  },
  {
   "cell_type": "code",
   "execution_count": 320,
   "id": "b63f9356",
   "metadata": {},
   "outputs": [
    {
     "name": "stdout",
     "output_type": "stream",
     "text": [
      "1129 416 88 1779 679\n"
     ]
    }
   ],
   "source": [
    "#Add the different covariates. \n",
    "df_diabetes_cohort['cancer'] = df_diabetes_cohort['PAT_ID'].isin(df_cancer['PAT_ID']).astype(int)\n",
    "df_diabetes_cohort['COPD'] = df_diabetes_cohort['PAT_ID'].isin(df_COPD['PAT_ID']).astype(int)\n",
    "df_diabetes_cohort['fracture'] = df_diabetes_cohort['PAT_ID'].isin(df_fracture['PAT_ID']).astype(int)\n",
    "df_diabetes_cohort['hypertension'] = df_diabetes_cohort['PAT_ID'].isin(df_hypertension['PAT_ID']).astype(int)\n",
    "df_diabetes_cohort['surgery'] = df_diabetes_cohort['PAT_ID'].isin(df_surgery['PAT_ID']).astype(int)\n",
    "print(df_diabetes_cohort['cancer'].sum(), df_diabetes_cohort['COPD'].sum(), df_diabetes_cohort['fracture'].sum(), df_diabetes_cohort['hypertension'].sum(), df_diabetes_cohort['surgery'].sum())"
   ]
  },
  {
   "cell_type": "markdown",
   "id": "c7e20505",
   "metadata": {},
   "source": [
    "## Exposure "
   ]
  },
  {
   "cell_type": "code",
   "execution_count": 254,
   "id": "debeef30",
   "metadata": {
    "scrolled": false
   },
   "outputs": [],
   "source": [
    "#Add this df_exp_drug using our prescription date and drug ATC Code, with an exposure column. Then add collumn just for the name of the drug prescribed. "
   ]
  },
  {
   "cell_type": "code",
   "execution_count": 321,
   "id": "6e8e2ba4",
   "metadata": {},
   "outputs": [],
   "source": [
    "#Using ATC Codes replace ATC Code by the drug class \n",
    "dict_ATC_code = {}\n",
    "dict_ATC_code[\" A10BA02\"]='Biguanides'\n",
    "dict_ATC_code[' A10BB01']=\"Sulfonylureas\"\n",
    "dict_ATC_code[' A10BB07']=\"Sulfonylureas\"\n",
    "dict_ATC_code[' A10BB12']=\"Sulfonylureas\"\n",
    "dict_ATC_code[\" A10BB09\"]=\"Sulfonylureas\"\n",
    "dict_ATC_code[\" A10BH01\"]=\"Dipeptidyl peptidase 4 (DPP-4) inhibitors\"\n",
    "dict_ATC_code[\" A10BH02\"]=\"Dipeptidyl peptidase 4 (DPP-4) inhibitors\"\n",
    "dict_ATC_code[\" A10BF01\"]=\"Alpha glucosidase inhibitors\"\n",
    "dict_ATC_code[\" A10BF02\"]=\"Alpha glucosidase inhibitors\"\n",
    "\n",
    "#Create the new cdrug class column and drop the old code column\n",
    "df_exp_drug['drug_class'] = df_exp_drug['DRUG_ATC_C07'].map(dict_ATC_code)\n",
    "df_exp_drug = df_exp_drug.drop(columns=['DRUG_ATC_C07'])\n",
    "df_exp_drug = df_exp_drug.rename(columns={'prs_date': 'exposure_prescription_date'})"
   ]
  },
  {
   "cell_type": "code",
   "execution_count": 322,
   "id": "7dc643d9",
   "metadata": {
    "scrolled": true
   },
   "outputs": [
    {
     "data": {
      "text/plain": [
       "6725"
      ]
     },
     "execution_count": 322,
     "metadata": {},
     "output_type": "execute_result"
    }
   ],
   "source": [
    "counter = 0\n",
    "for i in df_diabetes_cohort['PAT_ID']:\n",
    "    # Check if 'pat_id' is in 'PAT_ID' column of df_outcome\n",
    "    if i in df_exp_drug['PAT_ID'].values:\n",
    "        counter += 1\n",
    "        # Update 'prs_date' in df_diabetes_cohort based on the condition\n",
    "        df_diabetes_cohort.loc[df_diabetes_cohort['PAT_ID'] == i, 'exposure_prescription_date'] = df_exp_drug.loc[df_exp_drug['PAT_ID'] == i, 'exposure_prescription_date'].values[0]\n",
    "        df_diabetes_cohort.loc[df_diabetes_cohort['PAT_ID'] == i, 'exposure_drug_class'] = df_exp_drug.loc[df_exp_drug['PAT_ID'] == i, 'drug_class'].values[0]\n",
    "counter"
   ]
  },
  {
   "cell_type": "code",
   "execution_count": 323,
   "id": "04ca4038",
   "metadata": {},
   "outputs": [],
   "source": [
    "#We then One Hot Encode our different exposures for easier statistical analysis in R \n",
    "df_diabetes_cohort['exposure_biguanide'] = (df_diabetes_cohort['exposure_drug_class'] == 'Biguanides').astype(int)\n",
    "df_diabetes_cohort['exposure_Sulfonylureas'] = (df_diabetes_cohort['exposure_drug_class'] == \"Sulfonylureas\").astype(int)\n",
    "df_diabetes_cohort['exposure_DPP-4'] = (df_diabetes_cohort['exposure_drug_class'] == \"Dipeptidyl peptidase 4 (DPP-4) inhibitors\").astype(int)\n",
    "df_diabetes_cohort['exposure_Alpha glucosidase inhibitors'] = (df_diabetes_cohort['exposure_drug_class'] == \"Alpha glucosidase inhibitors\").astype(int)"
   ]
  },
  {
   "cell_type": "markdown",
   "id": "931619e5",
   "metadata": {},
   "source": [
    "## OUTCOME"
   ]
  },
  {
   "cell_type": "code",
   "execution_count": 259,
   "id": "71cbedbd",
   "metadata": {},
   "outputs": [],
   "source": [
    "#Create VTE (yes/no) and VTE date columns. "
   ]
  },
  {
   "cell_type": "code",
   "execution_count": 324,
   "id": "4a444cf1",
   "metadata": {},
   "outputs": [
    {
     "data": {
      "text/plain": [
       "1983"
      ]
     },
     "execution_count": 324,
     "metadata": {},
     "output_type": "execute_result"
    }
   ],
   "source": [
    "counter = 0\n",
    "for i in df_diabetes_cohort['PAT_ID']:\n",
    "    # Check if 'pat_id' is in 'PAT_ID' column of df_outcome\n",
    "    if i in df_outcome['pat_id'].values:\n",
    "        counter += 1\n",
    "        # Update 'prs_date' in df_diabetes_cohort based on the condition\n",
    "        df_diabetes_cohort.loc[df_diabetes_cohort['PAT_ID'] == i, 'VTE_event_date'] = df_outcome.loc[df_outcome['pat_id'] == i, 'eventdate'].values[0]\n",
    "counter"
   ]
  },
  {
   "cell_type": "code",
   "execution_count": 325,
   "id": "91be8e1b",
   "metadata": {
    "scrolled": false
   },
   "outputs": [
    {
     "data": {
      "text/html": [
       "<div>\n",
       "<style scoped>\n",
       "    .dataframe tbody tr th:only-of-type {\n",
       "        vertical-align: middle;\n",
       "    }\n",
       "\n",
       "    .dataframe tbody tr th {\n",
       "        vertical-align: top;\n",
       "    }\n",
       "\n",
       "    .dataframe thead th {\n",
       "        text-align: right;\n",
       "    }\n",
       "</style>\n",
       "<table border=\"1\" class=\"dataframe\">\n",
       "  <thead>\n",
       "    <tr style=\"text-align: right;\">\n",
       "      <th></th>\n",
       "      <th>PAT_ID</th>\n",
       "      <th>PAT_SEX_COD</th>\n",
       "      <th>diab_date</th>\n",
       "      <th>pat_birth_date</th>\n",
       "      <th>years of age</th>\n",
       "      <th>cancer</th>\n",
       "      <th>COPD</th>\n",
       "      <th>fracture</th>\n",
       "      <th>hypertension</th>\n",
       "      <th>surgery</th>\n",
       "      <th>exposure_prescription_date</th>\n",
       "      <th>exposure_drug_class</th>\n",
       "      <th>exposure_biguanide</th>\n",
       "      <th>exposure_Sulfonylureas</th>\n",
       "      <th>exposure_DPP-4</th>\n",
       "      <th>exposure_Alpha glucosidase inhibitors</th>\n",
       "      <th>VTE_event_date</th>\n",
       "      <th>VTE_outcome</th>\n",
       "    </tr>\n",
       "  </thead>\n",
       "  <tbody>\n",
       "    <tr>\n",
       "      <th>0</th>\n",
       "      <td>10000008910752101</td>\n",
       "      <td>1</td>\n",
       "      <td>2018-03-06</td>\n",
       "      <td>1958-09-13</td>\n",
       "      <td>59.477070</td>\n",
       "      <td>0</td>\n",
       "      <td>0</td>\n",
       "      <td>0</td>\n",
       "      <td>0</td>\n",
       "      <td>0</td>\n",
       "      <td>2019-06-29</td>\n",
       "      <td>Biguanides</td>\n",
       "      <td>1</td>\n",
       "      <td>0</td>\n",
       "      <td>0</td>\n",
       "      <td>0</td>\n",
       "      <td>NaN</td>\n",
       "      <td>0</td>\n",
       "    </tr>\n",
       "    <tr>\n",
       "      <th>1</th>\n",
       "      <td>10001443446743793</td>\n",
       "      <td>1</td>\n",
       "      <td>2018-09-17</td>\n",
       "      <td>1944-04-14</td>\n",
       "      <td>74.425736</td>\n",
       "      <td>0</td>\n",
       "      <td>0</td>\n",
       "      <td>0</td>\n",
       "      <td>0</td>\n",
       "      <td>0</td>\n",
       "      <td>2019-05-03</td>\n",
       "      <td>Biguanides</td>\n",
       "      <td>1</td>\n",
       "      <td>0</td>\n",
       "      <td>0</td>\n",
       "      <td>0</td>\n",
       "      <td>NaN</td>\n",
       "      <td>0</td>\n",
       "    </tr>\n",
       "    <tr>\n",
       "      <th>2</th>\n",
       "      <td>10003741345221536</td>\n",
       "      <td>1</td>\n",
       "      <td>2018-05-16</td>\n",
       "      <td>1968-12-01</td>\n",
       "      <td>49.453799</td>\n",
       "      <td>0</td>\n",
       "      <td>0</td>\n",
       "      <td>0</td>\n",
       "      <td>1</td>\n",
       "      <td>0</td>\n",
       "      <td>2020-01-05</td>\n",
       "      <td>Biguanides</td>\n",
       "      <td>1</td>\n",
       "      <td>0</td>\n",
       "      <td>0</td>\n",
       "      <td>0</td>\n",
       "      <td>NaN</td>\n",
       "      <td>0</td>\n",
       "    </tr>\n",
       "    <tr>\n",
       "      <th>3</th>\n",
       "      <td>10009136008935799</td>\n",
       "      <td>1</td>\n",
       "      <td>2018-05-07</td>\n",
       "      <td>1955-06-28</td>\n",
       "      <td>62.858316</td>\n",
       "      <td>0</td>\n",
       "      <td>0</td>\n",
       "      <td>0</td>\n",
       "      <td>0</td>\n",
       "      <td>0</td>\n",
       "      <td>2020-03-21</td>\n",
       "      <td>Biguanides</td>\n",
       "      <td>1</td>\n",
       "      <td>0</td>\n",
       "      <td>0</td>\n",
       "      <td>0</td>\n",
       "      <td>2020-08-01</td>\n",
       "      <td>1</td>\n",
       "    </tr>\n",
       "    <tr>\n",
       "      <th>4</th>\n",
       "      <td>10011180510471332</td>\n",
       "      <td>1</td>\n",
       "      <td>2018-08-29</td>\n",
       "      <td>1943-02-22</td>\n",
       "      <td>75.515400</td>\n",
       "      <td>0</td>\n",
       "      <td>0</td>\n",
       "      <td>0</td>\n",
       "      <td>0</td>\n",
       "      <td>0</td>\n",
       "      <td>2020-02-12</td>\n",
       "      <td>Sulfonylureas</td>\n",
       "      <td>0</td>\n",
       "      <td>1</td>\n",
       "      <td>0</td>\n",
       "      <td>0</td>\n",
       "      <td>NaN</td>\n",
       "      <td>0</td>\n",
       "    </tr>\n",
       "    <tr>\n",
       "      <th>...</th>\n",
       "      <td>...</td>\n",
       "      <td>...</td>\n",
       "      <td>...</td>\n",
       "      <td>...</td>\n",
       "      <td>...</td>\n",
       "      <td>...</td>\n",
       "      <td>...</td>\n",
       "      <td>...</td>\n",
       "      <td>...</td>\n",
       "      <td>...</td>\n",
       "      <td>...</td>\n",
       "      <td>...</td>\n",
       "      <td>...</td>\n",
       "      <td>...</td>\n",
       "      <td>...</td>\n",
       "      <td>...</td>\n",
       "      <td>...</td>\n",
       "      <td>...</td>\n",
       "    </tr>\n",
       "    <tr>\n",
       "      <th>8054</th>\n",
       "      <td>29987427320037846</td>\n",
       "      <td>1</td>\n",
       "      <td>2018-07-22</td>\n",
       "      <td>1945-01-27</td>\n",
       "      <td>73.481177</td>\n",
       "      <td>1</td>\n",
       "      <td>0</td>\n",
       "      <td>0</td>\n",
       "      <td>0</td>\n",
       "      <td>0</td>\n",
       "      <td>2019-01-28</td>\n",
       "      <td>Sulfonylureas</td>\n",
       "      <td>0</td>\n",
       "      <td>1</td>\n",
       "      <td>0</td>\n",
       "      <td>0</td>\n",
       "      <td>2019-05-03</td>\n",
       "      <td>1</td>\n",
       "    </tr>\n",
       "    <tr>\n",
       "      <th>8055</th>\n",
       "      <td>29995168593291644</td>\n",
       "      <td>2</td>\n",
       "      <td>2018-05-09</td>\n",
       "      <td>1951-05-03</td>\n",
       "      <td>67.017112</td>\n",
       "      <td>0</td>\n",
       "      <td>1</td>\n",
       "      <td>0</td>\n",
       "      <td>1</td>\n",
       "      <td>0</td>\n",
       "      <td>2020-01-24</td>\n",
       "      <td>Biguanides</td>\n",
       "      <td>1</td>\n",
       "      <td>0</td>\n",
       "      <td>0</td>\n",
       "      <td>0</td>\n",
       "      <td>NaN</td>\n",
       "      <td>0</td>\n",
       "    </tr>\n",
       "    <tr>\n",
       "      <th>8056</th>\n",
       "      <td>29995597307026117</td>\n",
       "      <td>1</td>\n",
       "      <td>2018-04-18</td>\n",
       "      <td>1949-03-16</td>\n",
       "      <td>69.089665</td>\n",
       "      <td>1</td>\n",
       "      <td>0</td>\n",
       "      <td>0</td>\n",
       "      <td>1</td>\n",
       "      <td>0</td>\n",
       "      <td>2019-09-13</td>\n",
       "      <td>Biguanides</td>\n",
       "      <td>1</td>\n",
       "      <td>0</td>\n",
       "      <td>0</td>\n",
       "      <td>0</td>\n",
       "      <td>2020-12-12</td>\n",
       "      <td>1</td>\n",
       "    </tr>\n",
       "    <tr>\n",
       "      <th>8057</th>\n",
       "      <td>29997018692944873</td>\n",
       "      <td>1</td>\n",
       "      <td>2018-06-24</td>\n",
       "      <td>1936-01-20</td>\n",
       "      <td>82.425736</td>\n",
       "      <td>0</td>\n",
       "      <td>0</td>\n",
       "      <td>0</td>\n",
       "      <td>1</td>\n",
       "      <td>0</td>\n",
       "      <td>2019-06-10</td>\n",
       "      <td>Biguanides</td>\n",
       "      <td>1</td>\n",
       "      <td>0</td>\n",
       "      <td>0</td>\n",
       "      <td>0</td>\n",
       "      <td>2019-05-22</td>\n",
       "      <td>1</td>\n",
       "    </tr>\n",
       "    <tr>\n",
       "      <th>8058</th>\n",
       "      <td>29998480270207338</td>\n",
       "      <td>1</td>\n",
       "      <td>2018-07-03</td>\n",
       "      <td>1940-07-28</td>\n",
       "      <td>77.930185</td>\n",
       "      <td>0</td>\n",
       "      <td>0</td>\n",
       "      <td>0</td>\n",
       "      <td>0</td>\n",
       "      <td>0</td>\n",
       "      <td>2019-10-21</td>\n",
       "      <td>Biguanides</td>\n",
       "      <td>1</td>\n",
       "      <td>0</td>\n",
       "      <td>0</td>\n",
       "      <td>0</td>\n",
       "      <td>NaN</td>\n",
       "      <td>0</td>\n",
       "    </tr>\n",
       "  </tbody>\n",
       "</table>\n",
       "<p>8059 rows × 18 columns</p>\n",
       "</div>"
      ],
      "text/plain": [
       "                 PAT_ID  PAT_SEX_COD  diab_date pat_birth_date  years of age  \\\n",
       "0     10000008910752101            1 2018-03-06     1958-09-13     59.477070   \n",
       "1     10001443446743793            1 2018-09-17     1944-04-14     74.425736   \n",
       "2     10003741345221536            1 2018-05-16     1968-12-01     49.453799   \n",
       "3     10009136008935799            1 2018-05-07     1955-06-28     62.858316   \n",
       "4     10011180510471332            1 2018-08-29     1943-02-22     75.515400   \n",
       "...                 ...          ...        ...            ...           ...   \n",
       "8054  29987427320037846            1 2018-07-22     1945-01-27     73.481177   \n",
       "8055  29995168593291644            2 2018-05-09     1951-05-03     67.017112   \n",
       "8056  29995597307026117            1 2018-04-18     1949-03-16     69.089665   \n",
       "8057  29997018692944873            1 2018-06-24     1936-01-20     82.425736   \n",
       "8058  29998480270207338            1 2018-07-03     1940-07-28     77.930185   \n",
       "\n",
       "      cancer  COPD  fracture  hypertension  surgery  \\\n",
       "0          0     0         0             0        0   \n",
       "1          0     0         0             0        0   \n",
       "2          0     0         0             1        0   \n",
       "3          0     0         0             0        0   \n",
       "4          0     0         0             0        0   \n",
       "...      ...   ...       ...           ...      ...   \n",
       "8054       1     0         0             0        0   \n",
       "8055       0     1         0             1        0   \n",
       "8056       1     0         0             1        0   \n",
       "8057       0     0         0             1        0   \n",
       "8058       0     0         0             0        0   \n",
       "\n",
       "     exposure_prescription_date exposure_drug_class  exposure_biguanide  \\\n",
       "0                    2019-06-29          Biguanides                   1   \n",
       "1                    2019-05-03          Biguanides                   1   \n",
       "2                    2020-01-05          Biguanides                   1   \n",
       "3                    2020-03-21          Biguanides                   1   \n",
       "4                    2020-02-12       Sulfonylureas                   0   \n",
       "...                         ...                 ...                 ...   \n",
       "8054                 2019-01-28       Sulfonylureas                   0   \n",
       "8055                 2020-01-24          Biguanides                   1   \n",
       "8056                 2019-09-13          Biguanides                   1   \n",
       "8057                 2019-06-10          Biguanides                   1   \n",
       "8058                 2019-10-21          Biguanides                   1   \n",
       "\n",
       "      exposure_Sulfonylureas  exposure_DPP-4  \\\n",
       "0                          0               0   \n",
       "1                          0               0   \n",
       "2                          0               0   \n",
       "3                          0               0   \n",
       "4                          1               0   \n",
       "...                      ...             ...   \n",
       "8054                       1               0   \n",
       "8055                       0               0   \n",
       "8056                       0               0   \n",
       "8057                       0               0   \n",
       "8058                       0               0   \n",
       "\n",
       "      exposure_Alpha glucosidase inhibitors VTE_event_date  VTE_outcome  \n",
       "0                                         0            NaN            0  \n",
       "1                                         0            NaN            0  \n",
       "2                                         0            NaN            0  \n",
       "3                                         0     2020-08-01            1  \n",
       "4                                         0            NaN            0  \n",
       "...                                     ...            ...          ...  \n",
       "8054                                      0     2019-05-03            1  \n",
       "8055                                      0            NaN            0  \n",
       "8056                                      0     2020-12-12            1  \n",
       "8057                                      0     2019-05-22            1  \n",
       "8058                                      0            NaN            0  \n",
       "\n",
       "[8059 rows x 18 columns]"
      ]
     },
     "execution_count": 325,
     "metadata": {},
     "output_type": "execute_result"
    }
   ],
   "source": [
    "#We add a new One Hot encoding column for if our patients have a VTE outcome. \n",
    "df_diabetes_cohort['VTE_outcome'] = np.where(df_diabetes_cohort['VTE_event_date'].isnull(), 0, 1)\n",
    "df_diabetes_cohort"
   ]
  },
  {
   "cell_type": "code",
   "execution_count": 270,
   "id": "2f10620e",
   "metadata": {},
   "outputs": [],
   "source": [
    "# Data Cleaning "
   ]
  },
  {
   "cell_type": "markdown",
   "id": "9f3e0d44",
   "metadata": {},
   "source": [
    "We decide to remove all patients under the age of 14 or over the age of 100, we lose 21 patients"
   ]
  },
  {
   "cell_type": "code",
   "execution_count": 326,
   "id": "ea4d97e8",
   "metadata": {},
   "outputs": [],
   "source": [
    "too_young_patients = df_diabetes_cohort[df_diabetes_cohort['years of age'] < 3]\n",
    "df_diabetes_cohort = df_diabetes_cohort.drop(too_young_patients.index)"
   ]
  },
  {
   "cell_type": "code",
   "execution_count": 327,
   "id": "2a0b2cd4",
   "metadata": {},
   "outputs": [],
   "source": [
    "too_old_patients = df_diabetes_cohort[df_diabetes_cohort['years of age'] > 100]\n",
    "df_diabetes_cohort = df_diabetes_cohort.drop(too_old_patients.index)"
   ]
  },
  {
   "cell_type": "code",
   "execution_count": 328,
   "id": "896a4da2",
   "metadata": {
    "scrolled": true
   },
   "outputs": [
    {
     "data": {
      "text/plain": [
       "8034"
      ]
     },
     "execution_count": 328,
     "metadata": {},
     "output_type": "execute_result"
    }
   ],
   "source": [
    "len(df_diabetes_cohort)"
   ]
  },
  {
   "cell_type": "code",
   "execution_count": 330,
   "id": "d6d3156c",
   "metadata": {},
   "outputs": [],
   "source": [
    "#export latest csv file\n",
    "csv_file_path = '/Users/alecstear/Documents/GitHub/anti-diabetics-study-with-EHR/data tables/main table analysis/df_MAIN_cohort.csv'\n",
    "df_diabetes_cohort.to_csv(csv_file_path, index=False)"
   ]
  },
  {
   "cell_type": "code",
   "execution_count": 329,
   "id": "22d29cd7",
   "metadata": {},
   "outputs": [
    {
     "name": "stdout",
     "output_type": "stream",
     "text": [
      "Max Age: 97.9438740588638\n",
      "Min Age: 3.0171115674195756\n",
      "Median Age: 66.76796714579055\n",
      "Mean Age: 64.69267250053119\n"
     ]
    }
   ],
   "source": [
    "max_age = df_diabetes_cohort['years of age'].max()\n",
    "min_age = df_diabetes_cohort['years of age'].min()\n",
    "median_age = df_diabetes_cohort['years of age'].median()\n",
    "mean_age = df_diabetes_cohort['years of age'].mean()\n",
    "\n",
    "# Display the results\n",
    "print(f\"Max Age: {max_age}\")\n",
    "print(f\"Min Age: {min_age}\")\n",
    "print(f\"Median Age: {median_age}\")\n",
    "print(f\"Mean Age: {mean_age}\")"
   ]
  }
 ],
 "metadata": {
  "kernelspec": {
   "display_name": "Python 3 (ipykernel)",
   "language": "python",
   "name": "python3"
  },
  "language_info": {
   "codemirror_mode": {
    "name": "ipython",
    "version": 3
   },
   "file_extension": ".py",
   "mimetype": "text/x-python",
   "name": "python",
   "nbconvert_exporter": "python",
   "pygments_lexer": "ipython3",
   "version": "3.10.9"
  }
 },
 "nbformat": 4,
 "nbformat_minor": 5
}
